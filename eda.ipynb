{
 "cells": [
  {
   "cell_type": "code",
   "execution_count": 1,
   "id": "c87806f0",
   "metadata": {},
   "outputs": [],
   "source": [
    "%load_ext autoreload\n",
    "%autoreload 2"
   ]
  },
  {
   "cell_type": "code",
   "execution_count": 2,
   "id": "33cd8a02",
   "metadata": {},
   "outputs": [],
   "source": [
    "import pathlib\n",
    "import pandas as pd\n",
    "import numpy as np\n",
    "from lstm.dataset import SiburDataset\n",
    "from sklearn.preprocessing import OneHotEncoder\n",
    "from tqdm import tqdm\n",
    "import pickle"
   ]
  },
  {
   "cell_type": "code",
   "execution_count": 40,
   "id": "77d81bde",
   "metadata": {},
   "outputs": [],
   "source": [
    "DATA_DIR = pathlib.Path(\".\")\n",
    "DATA_FILE = \"sc2021_train_deals.csv\"\n",
    "AGG_COLS = [\"material_code\", \"company_code\", \"country\", \"region\",\n",
    "            \"manager_code\"]\n",
    "RS = 82736"
   ]
  },
  {
   "cell_type": "code",
   "execution_count": 35,
   "id": "1f8a652c",
   "metadata": {},
   "outputs": [],
   "source": [
    "data = pd.read_csv(DATA_DIR.joinpath(DATA_FILE), parse_dates=[\"month\", \"date\"])"
   ]
  },
  {
   "cell_type": "code",
   "execution_count": 36,
   "id": "530ba1bc",
   "metadata": {},
   "outputs": [
    {
     "data": {
      "text/html": [
       "<div>\n",
       "<style scoped>\n",
       "    .dataframe tbody tr th:only-of-type {\n",
       "        vertical-align: middle;\n",
       "    }\n",
       "\n",
       "    .dataframe tbody tr th {\n",
       "        vertical-align: top;\n",
       "    }\n",
       "\n",
       "    .dataframe thead th {\n",
       "        text-align: right;\n",
       "    }\n",
       "</style>\n",
       "<table border=\"1\" class=\"dataframe\">\n",
       "  <thead>\n",
       "    <tr style=\"text-align: right;\">\n",
       "      <th></th>\n",
       "      <th>material_code</th>\n",
       "      <th>company_code</th>\n",
       "      <th>country</th>\n",
       "      <th>region</th>\n",
       "      <th>manager_code</th>\n",
       "      <th>month</th>\n",
       "      <th>material_lvl1_name</th>\n",
       "      <th>material_lvl2_name</th>\n",
       "      <th>material_lvl3_name</th>\n",
       "      <th>contract_type</th>\n",
       "      <th>date</th>\n",
       "      <th>volume</th>\n",
       "    </tr>\n",
       "  </thead>\n",
       "  <tbody>\n",
       "    <tr>\n",
       "      <th>0</th>\n",
       "      <td>134</td>\n",
       "      <td>0</td>\n",
       "      <td>Литва</td>\n",
       "      <td>Литва</td>\n",
       "      <td>12261</td>\n",
       "      <td>2018-01-01</td>\n",
       "      <td>Базовые полимеры</td>\n",
       "      <td>ПЭ</td>\n",
       "      <td>ПЭНП</td>\n",
       "      <td>Спот</td>\n",
       "      <td>2018-01-01</td>\n",
       "      <td>43.0</td>\n",
       "    </tr>\n",
       "    <tr>\n",
       "      <th>1</th>\n",
       "      <td>197</td>\n",
       "      <td>0</td>\n",
       "      <td>Китай</td>\n",
       "      <td>Китай</td>\n",
       "      <td>16350</td>\n",
       "      <td>2018-01-01</td>\n",
       "      <td>Базовые полимеры</td>\n",
       "      <td>ПЭ</td>\n",
       "      <td>ПЭНП</td>\n",
       "      <td>Спот</td>\n",
       "      <td>2018-01-02</td>\n",
       "      <td>95.0</td>\n",
       "    </tr>\n",
       "    <tr>\n",
       "      <th>2</th>\n",
       "      <td>794</td>\n",
       "      <td>2162</td>\n",
       "      <td>Казахстан</td>\n",
       "      <td>Атырауская обл.</td>\n",
       "      <td>10942</td>\n",
       "      <td>2018-01-01</td>\n",
       "      <td>Базовые полимеры</td>\n",
       "      <td>ПП</td>\n",
       "      <td>ПП</td>\n",
       "      <td>Контракт</td>\n",
       "      <td>2018-01-02</td>\n",
       "      <td>57.0</td>\n",
       "    </tr>\n",
       "    <tr>\n",
       "      <th>3</th>\n",
       "      <td>134</td>\n",
       "      <td>0</td>\n",
       "      <td>Литва</td>\n",
       "      <td>Литва</td>\n",
       "      <td>12261</td>\n",
       "      <td>2018-01-01</td>\n",
       "      <td>Базовые полимеры</td>\n",
       "      <td>ПЭ</td>\n",
       "      <td>ПЭНП</td>\n",
       "      <td>Спот</td>\n",
       "      <td>2018-01-02</td>\n",
       "      <td>21.0</td>\n",
       "    </tr>\n",
       "    <tr>\n",
       "      <th>4</th>\n",
       "      <td>133</td>\n",
       "      <td>0</td>\n",
       "      <td>Китай</td>\n",
       "      <td>Китай</td>\n",
       "      <td>17745</td>\n",
       "      <td>2018-01-01</td>\n",
       "      <td>Базовые полимеры</td>\n",
       "      <td>ПЭ</td>\n",
       "      <td>ПЭНП</td>\n",
       "      <td>Спот</td>\n",
       "      <td>2018-01-02</td>\n",
       "      <td>150.0</td>\n",
       "    </tr>\n",
       "  </tbody>\n",
       "</table>\n",
       "</div>"
      ],
      "text/plain": [
       "   material_code  company_code    country           region  manager_code  \\\n",
       "0            134             0      Литва            Литва         12261   \n",
       "1            197             0      Китай            Китай         16350   \n",
       "2            794          2162  Казахстан  Атырауская обл.         10942   \n",
       "3            134             0      Литва            Литва         12261   \n",
       "4            133             0      Китай            Китай         17745   \n",
       "\n",
       "       month material_lvl1_name material_lvl2_name material_lvl3_name  \\\n",
       "0 2018-01-01   Базовые полимеры                 ПЭ               ПЭНП   \n",
       "1 2018-01-01   Базовые полимеры                 ПЭ               ПЭНП   \n",
       "2 2018-01-01   Базовые полимеры                 ПП                 ПП   \n",
       "3 2018-01-01   Базовые полимеры                 ПЭ               ПЭНП   \n",
       "4 2018-01-01   Базовые полимеры                 ПЭ               ПЭНП   \n",
       "\n",
       "  contract_type       date  volume  \n",
       "0          Спот 2018-01-01    43.0  \n",
       "1          Спот 2018-01-02    95.0  \n",
       "2      Контракт 2018-01-02    57.0  \n",
       "3          Спот 2018-01-02    21.0  \n",
       "4          Спот 2018-01-02   150.0  "
      ]
     },
     "execution_count": 36,
     "metadata": {},
     "output_type": "execute_result"
    }
   ],
   "source": [
    "data.head()"
   ]
  },
  {
   "cell_type": "code",
   "execution_count": 41,
   "id": "9ebb7a31",
   "metadata": {},
   "outputs": [],
   "source": [
    "group_ts = data.groupby(AGG_COLS + [\"month\"])[\"volume\"].sum().unstack(fill_value=0)"
   ]
  },
  {
   "cell_type": "code",
   "execution_count": 42,
   "id": "1b42bc82",
   "metadata": {},
   "outputs": [
    {
     "data": {
      "text/plain": [
       "(941, 31)"
      ]
     },
     "execution_count": 42,
     "metadata": {},
     "output_type": "execute_result"
    }
   ],
   "source": [
    "group_ts.shape"
   ]
  },
  {
   "cell_type": "code",
   "execution_count": 43,
   "id": "1bc5bec8",
   "metadata": {},
   "outputs": [
    {
     "data": {
      "text/plain": [
       "(943, 31)"
      ]
     },
     "execution_count": 43,
     "metadata": {},
     "output_type": "execute_result"
    }
   ],
   "source": [
    "agg_cols = [\"material_code\", \"company_code\", \"country\", \"region\",\n",
    "                    \"manager_code\", \"material_lvl1_name\", \"material_lvl2_name\",\n",
    "                    \"material_lvl3_name\", \"contract_type\"]\n",
    "group_ts = data.groupby(agg_cols + [\"month\"])[\"volume\"].sum().unstack(fill_value=0)\n",
    "group_ts.shape"
   ]
  },
  {
   "cell_type": "code",
   "execution_count": 44,
   "id": "efe8a28c",
   "metadata": {},
   "outputs": [],
   "source": [
    "row = group_ts.iloc[0]"
   ]
  },
  {
   "cell_type": "code",
   "execution_count": 45,
   "id": "7b6ea93f",
   "metadata": {},
   "outputs": [],
   "source": [
    "for ix, val in zip(row.index, row):\n",
    "    vector = list(row.name) + [ix.month]"
   ]
  },
  {
   "cell_type": "code",
   "execution_count": 46,
   "id": "62a36d45",
   "metadata": {},
   "outputs": [
    {
     "data": {
      "text/plain": [
       "[124,\n",
       " 7278,\n",
       " 'Россия',\n",
       " 'Респ. Татарстан',\n",
       " 17460,\n",
       " 'Базовые полимеры',\n",
       " 'ПЭ',\n",
       " 'ПЭНП',\n",
       " 'Contract + Spot',\n",
       " 7]"
      ]
     },
     "execution_count": 46,
     "metadata": {},
     "output_type": "execute_result"
    }
   ],
   "source": [
    "vector"
   ]
  },
  {
   "cell_type": "code",
   "execution_count": 49,
   "id": "b6e7856a",
   "metadata": {},
   "outputs": [
    {
     "data": {
      "text/plain": [
       "OneHotEncoder()"
      ]
     },
     "execution_count": 49,
     "metadata": {},
     "output_type": "execute_result"
    }
   ],
   "source": [
    "encoder = OneHotEncoder()\n",
    "data['month_'] = data['date'].dt.month\n",
    "agg_cols = [\"material_code\", \"company_code\", \"country\", \"region\",\n",
    "            \"manager_code\", \"material_lvl1_name\", \"material_lvl2_name\",\n",
    "            \"material_lvl3_name\", \"contract_type\", \"month_\"]\n",
    "encoder.fit(data[agg_cols])"
   ]
  },
  {
   "cell_type": "code",
   "execution_count": 50,
   "id": "4cb9a2d5",
   "metadata": {},
   "outputs": [
    {
     "data": {
      "text/plain": [
       "(538,)"
      ]
     },
     "execution_count": 50,
     "metadata": {},
     "output_type": "execute_result"
    }
   ],
   "source": [
    "encoder.transform([vector]).toarray().flatten().shape"
   ]
  },
  {
   "cell_type": "code",
   "execution_count": 119,
   "id": "a3306ee8",
   "metadata": {},
   "outputs": [],
   "source": [
    "with open('./lstm/ohe_encoder.pkl', 'rb') as f:\n",
    "    encoder = pickle.load(f)\n",
    "\n",
    "dataset = SiburDataset(\n",
    "    data=data,\n",
    "    encoder=encoder,\n",
    "    period={\n",
    "        'start': '2018-01-01',\n",
    "        'end': '2019-03-01'\n",
    "    })"
   ]
  },
  {
   "cell_type": "code",
   "execution_count": 127,
   "id": "2095be8c",
   "metadata": {},
   "outputs": [],
   "source": [
    "X, target = next(iter(dataset))"
   ]
  },
  {
   "cell_type": "code",
   "execution_count": 121,
   "id": "6fd4bda6",
   "metadata": {},
   "outputs": [
    {
     "name": "stderr",
     "output_type": "stream",
     "text": [
      "100%|████████████████████████████████████████| 943/943 [00:06<00:00, 154.92it/s]\n"
     ]
    }
   ],
   "source": [
    "for X, target in tqdm(dataset):\n",
    "    pass"
   ]
  },
  {
   "cell_type": "code",
   "execution_count": 128,
   "id": "3771bf57",
   "metadata": {},
   "outputs": [
    {
     "data": {
      "text/plain": [
       "torch.Size([8, 527])"
      ]
     },
     "execution_count": 128,
     "metadata": {},
     "output_type": "execute_result"
    }
   ],
   "source": [
    "X.shape"
   ]
  },
  {
   "cell_type": "code",
   "execution_count": 129,
   "id": "5b955614",
   "metadata": {},
   "outputs": [
    {
     "data": {
      "text/plain": [
       "tensor([200.])"
      ]
     },
     "execution_count": 129,
     "metadata": {},
     "output_type": "execute_result"
    }
   ],
   "source": [
    "target"
   ]
  },
  {
   "cell_type": "code",
   "execution_count": 23,
   "id": "d2763a6f",
   "metadata": {},
   "outputs": [],
   "source": [
    "with open('ohe_encoder.pkl', 'wb') as f:\n",
    "    pickle.dump(encoder, f)"
   ]
  },
  {
   "cell_type": "code",
   "execution_count": null,
   "id": "aec2067e",
   "metadata": {},
   "outputs": [],
   "source": []
  }
 ],
 "metadata": {
  "kernelspec": {
   "display_name": "Python 3 (ipykernel)",
   "language": "python",
   "name": "python3"
  },
  "language_info": {
   "codemirror_mode": {
    "name": "ipython",
    "version": 3
   },
   "file_extension": ".py",
   "mimetype": "text/x-python",
   "name": "python",
   "nbconvert_exporter": "python",
   "pygments_lexer": "ipython3",
   "version": "3.9.7"
  }
 },
 "nbformat": 4,
 "nbformat_minor": 5
}
