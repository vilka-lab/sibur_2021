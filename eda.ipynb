{
 "cells": [
  {
   "cell_type": "code",
   "execution_count": 1,
   "id": "e89223c8",
   "metadata": {},
   "outputs": [],
   "source": [
    "%load_ext autoreload\n",
    "%autoreload 2"
   ]
  },
  {
   "cell_type": "code",
   "execution_count": 2,
   "id": "1e26fda8",
   "metadata": {},
   "outputs": [],
   "source": [
    "import pathlib\n",
    "import pandas as pd\n",
    "import numpy as np\n",
    "from lstm.dataset import SiburDataset\n",
    "from sklearn.preprocessing import OneHotEncoder\n",
    "from tqdm import tqdm\n",
    "import pickle\n",
    "from sklearn.metrics import mean_squared_log_error\n",
    "import matplotlib.pyplot as plt"
   ]
  },
  {
   "cell_type": "code",
   "execution_count": 3,
   "id": "ba8be9cf",
   "metadata": {},
   "outputs": [],
   "source": [
    "DATA_DIR = pathlib.Path(\".\")\n",
    "DATA_FILE = \"sc2021_train_deals.csv\"\n",
    "AGG_COLS = [\"material_code\", \"company_code\", \"country\", \"region\",\n",
    "            \"manager_code\"]\n",
    "RS = 82736"
   ]
  },
  {
   "cell_type": "code",
   "execution_count": 4,
   "id": "064cb651",
   "metadata": {},
   "outputs": [],
   "source": [
    "data = pd.read_csv(DATA_DIR.joinpath(DATA_FILE), parse_dates=[\"month\", \"date\"])"
   ]
  },
  {
   "cell_type": "code",
   "execution_count": 5,
   "id": "14416eaa",
   "metadata": {},
   "outputs": [
    {
     "data": {
      "text/html": [
       "<div>\n",
       "<style scoped>\n",
       "    .dataframe tbody tr th:only-of-type {\n",
       "        vertical-align: middle;\n",
       "    }\n",
       "\n",
       "    .dataframe tbody tr th {\n",
       "        vertical-align: top;\n",
       "    }\n",
       "\n",
       "    .dataframe thead th {\n",
       "        text-align: right;\n",
       "    }\n",
       "</style>\n",
       "<table border=\"1\" class=\"dataframe\">\n",
       "  <thead>\n",
       "    <tr style=\"text-align: right;\">\n",
       "      <th></th>\n",
       "      <th>material_code</th>\n",
       "      <th>company_code</th>\n",
       "      <th>country</th>\n",
       "      <th>region</th>\n",
       "      <th>manager_code</th>\n",
       "      <th>month</th>\n",
       "      <th>material_lvl1_name</th>\n",
       "      <th>material_lvl2_name</th>\n",
       "      <th>material_lvl3_name</th>\n",
       "      <th>contract_type</th>\n",
       "      <th>date</th>\n",
       "      <th>volume</th>\n",
       "    </tr>\n",
       "  </thead>\n",
       "  <tbody>\n",
       "    <tr>\n",
       "      <th>0</th>\n",
       "      <td>134</td>\n",
       "      <td>0</td>\n",
       "      <td>Литва</td>\n",
       "      <td>Литва</td>\n",
       "      <td>12261</td>\n",
       "      <td>2018-01-01</td>\n",
       "      <td>Базовые полимеры</td>\n",
       "      <td>ПЭ</td>\n",
       "      <td>ПЭНП</td>\n",
       "      <td>Спот</td>\n",
       "      <td>2018-01-01</td>\n",
       "      <td>43.0</td>\n",
       "    </tr>\n",
       "    <tr>\n",
       "      <th>1</th>\n",
       "      <td>197</td>\n",
       "      <td>0</td>\n",
       "      <td>Китай</td>\n",
       "      <td>Китай</td>\n",
       "      <td>16350</td>\n",
       "      <td>2018-01-01</td>\n",
       "      <td>Базовые полимеры</td>\n",
       "      <td>ПЭ</td>\n",
       "      <td>ПЭНП</td>\n",
       "      <td>Спот</td>\n",
       "      <td>2018-01-02</td>\n",
       "      <td>95.0</td>\n",
       "    </tr>\n",
       "    <tr>\n",
       "      <th>2</th>\n",
       "      <td>794</td>\n",
       "      <td>2162</td>\n",
       "      <td>Казахстан</td>\n",
       "      <td>Атырауская обл.</td>\n",
       "      <td>10942</td>\n",
       "      <td>2018-01-01</td>\n",
       "      <td>Базовые полимеры</td>\n",
       "      <td>ПП</td>\n",
       "      <td>ПП</td>\n",
       "      <td>Контракт</td>\n",
       "      <td>2018-01-02</td>\n",
       "      <td>57.0</td>\n",
       "    </tr>\n",
       "    <tr>\n",
       "      <th>3</th>\n",
       "      <td>134</td>\n",
       "      <td>0</td>\n",
       "      <td>Литва</td>\n",
       "      <td>Литва</td>\n",
       "      <td>12261</td>\n",
       "      <td>2018-01-01</td>\n",
       "      <td>Базовые полимеры</td>\n",
       "      <td>ПЭ</td>\n",
       "      <td>ПЭНП</td>\n",
       "      <td>Спот</td>\n",
       "      <td>2018-01-02</td>\n",
       "      <td>21.0</td>\n",
       "    </tr>\n",
       "    <tr>\n",
       "      <th>4</th>\n",
       "      <td>133</td>\n",
       "      <td>0</td>\n",
       "      <td>Китай</td>\n",
       "      <td>Китай</td>\n",
       "      <td>17745</td>\n",
       "      <td>2018-01-01</td>\n",
       "      <td>Базовые полимеры</td>\n",
       "      <td>ПЭ</td>\n",
       "      <td>ПЭНП</td>\n",
       "      <td>Спот</td>\n",
       "      <td>2018-01-02</td>\n",
       "      <td>150.0</td>\n",
       "    </tr>\n",
       "  </tbody>\n",
       "</table>\n",
       "</div>"
      ],
      "text/plain": [
       "   material_code  company_code    country           region  manager_code  \\\n",
       "0            134             0      Литва            Литва         12261   \n",
       "1            197             0      Китай            Китай         16350   \n",
       "2            794          2162  Казахстан  Атырауская обл.         10942   \n",
       "3            134             0      Литва            Литва         12261   \n",
       "4            133             0      Китай            Китай         17745   \n",
       "\n",
       "       month material_lvl1_name material_lvl2_name material_lvl3_name  \\\n",
       "0 2018-01-01   Базовые полимеры                 ПЭ               ПЭНП   \n",
       "1 2018-01-01   Базовые полимеры                 ПЭ               ПЭНП   \n",
       "2 2018-01-01   Базовые полимеры                 ПП                 ПП   \n",
       "3 2018-01-01   Базовые полимеры                 ПЭ               ПЭНП   \n",
       "4 2018-01-01   Базовые полимеры                 ПЭ               ПЭНП   \n",
       "\n",
       "  contract_type       date  volume  \n",
       "0          Спот 2018-01-01    43.0  \n",
       "1          Спот 2018-01-02    95.0  \n",
       "2      Контракт 2018-01-02    57.0  \n",
       "3          Спот 2018-01-02    21.0  \n",
       "4          Спот 2018-01-02   150.0  "
      ]
     },
     "execution_count": 5,
     "metadata": {},
     "output_type": "execute_result"
    }
   ],
   "source": [
    "data.head()"
   ]
  },
  {
   "cell_type": "code",
   "execution_count": 6,
   "id": "3357c106",
   "metadata": {},
   "outputs": [],
   "source": [
    "group_ts = data.groupby(AGG_COLS + [\"month\"])[\"volume\"].sum().unstack(fill_value=0)"
   ]
  },
  {
   "cell_type": "code",
   "execution_count": 7,
   "id": "338f8991",
   "metadata": {},
   "outputs": [
    {
     "data": {
      "text/plain": [
       "(941, 31)"
      ]
     },
     "execution_count": 7,
     "metadata": {},
     "output_type": "execute_result"
    }
   ],
   "source": [
    "group_ts.shape"
   ]
  },
  {
   "cell_type": "code",
   "execution_count": 15,
   "id": "7ae4f5ae",
   "metadata": {},
   "outputs": [
    {
     "data": {
      "text/plain": [
       "month\n",
       "2018-01-01    340.0\n",
       "2018-02-01    340.0\n",
       "2018-03-01    260.0\n",
       "2018-04-01    240.0\n",
       "2018-05-01    220.0\n",
       "2018-06-01    220.0\n",
       "2018-07-01    220.0\n",
       "2018-08-01    220.0\n",
       "2018-09-01    220.0\n",
       "2018-10-01    280.0\n",
       "2018-11-01    280.0\n",
       "2018-12-01    280.0\n",
       "2019-01-01    200.0\n",
       "2019-02-01    200.0\n",
       "2019-03-01    200.0\n",
       "2019-04-01    185.0\n",
       "2019-05-01    103.0\n",
       "2019-06-01     62.0\n",
       "2019-07-01      0.0\n",
       "2019-08-01      0.0\n",
       "2019-09-01      0.0\n",
       "2019-10-01      0.0\n",
       "2019-11-01      0.0\n",
       "2019-12-01      0.0\n",
       "2020-01-01      0.0\n",
       "2020-02-01      0.0\n",
       "2020-03-01      0.0\n",
       "2020-04-01      0.0\n",
       "2020-05-01      0.0\n",
       "2020-06-01      0.0\n",
       "2020-07-01      0.0\n",
       "Name: (124, 7278, Россия, Респ. Татарстан, 17460), dtype: float64"
      ]
     },
     "execution_count": 15,
     "metadata": {},
     "output_type": "execute_result"
    }
   ],
   "source": [
    "group_ts.iloc[0]"
   ]
  },
  {
   "cell_type": "code",
   "execution_count": null,
   "id": "96f45a0c",
   "metadata": {},
   "outputs": [],
   "source": []
  },
  {
   "cell_type": "code",
   "execution_count": null,
   "id": "06dfc7f3",
   "metadata": {},
   "outputs": [],
   "source": []
  },
  {
   "cell_type": "code",
   "execution_count": null,
   "id": "32031c40",
   "metadata": {},
   "outputs": [],
   "source": []
  },
  {
   "cell_type": "code",
   "execution_count": null,
   "id": "bcb2973d",
   "metadata": {},
   "outputs": [],
   "source": []
  },
  {
   "cell_type": "code",
   "execution_count": 43,
   "id": "c8c14e42",
   "metadata": {},
   "outputs": [
    {
     "data": {
      "text/plain": [
       "(943, 31)"
      ]
     },
     "execution_count": 43,
     "metadata": {},
     "output_type": "execute_result"
    }
   ],
   "source": [
    "agg_cols = [\"material_code\", \"company_code\", \"country\", \"region\",\n",
    "                    \"manager_code\", \"material_lvl1_name\", \"material_lvl2_name\",\n",
    "                    \"material_lvl3_name\", \"contract_type\"]\n",
    "group_ts = data.groupby(agg_cols + [\"month\"])[\"volume\"].sum().unstack(fill_value=0)\n",
    "group_ts.shape"
   ]
  },
  {
   "cell_type": "code",
   "execution_count": 44,
   "id": "01f50df3",
   "metadata": {},
   "outputs": [],
   "source": [
    "row = group_ts.iloc[0]"
   ]
  },
  {
   "cell_type": "code",
   "execution_count": 45,
   "id": "60691ff3",
   "metadata": {},
   "outputs": [],
   "source": [
    "for ix, val in zip(row.index, row):\n",
    "    vector = list(row.name) + [ix.month]"
   ]
  },
  {
   "cell_type": "code",
   "execution_count": 46,
   "id": "27a92d0a",
   "metadata": {},
   "outputs": [
    {
     "data": {
      "text/plain": [
       "[124,\n",
       " 7278,\n",
       " 'Россия',\n",
       " 'Респ. Татарстан',\n",
       " 17460,\n",
       " 'Базовые полимеры',\n",
       " 'ПЭ',\n",
       " 'ПЭНП',\n",
       " 'Contract + Spot',\n",
       " 7]"
      ]
     },
     "execution_count": 46,
     "metadata": {},
     "output_type": "execute_result"
    }
   ],
   "source": [
    "vector"
   ]
  },
  {
   "cell_type": "code",
   "execution_count": 49,
   "id": "8be10f50",
   "metadata": {},
   "outputs": [
    {
     "data": {
      "text/plain": [
       "OneHotEncoder()"
      ]
     },
     "execution_count": 49,
     "metadata": {},
     "output_type": "execute_result"
    }
   ],
   "source": [
    "encoder = OneHotEncoder()\n",
    "data['month_'] = data['date'].dt.month\n",
    "agg_cols = [\"material_code\", \"company_code\", \"country\", \"region\",\n",
    "            \"manager_code\", \"material_lvl1_name\", \"material_lvl2_name\",\n",
    "            \"material_lvl3_name\", \"contract_type\", \"month_\"]\n",
    "encoder.fit(data[agg_cols])"
   ]
  },
  {
   "cell_type": "code",
   "execution_count": 50,
   "id": "78013c8a",
   "metadata": {},
   "outputs": [
    {
     "data": {
      "text/plain": [
       "(538,)"
      ]
     },
     "execution_count": 50,
     "metadata": {},
     "output_type": "execute_result"
    }
   ],
   "source": [
    "encoder.transform([vector]).toarray().flatten().shape"
   ]
  },
  {
   "cell_type": "code",
   "execution_count": 119,
   "id": "08e8d0de",
   "metadata": {},
   "outputs": [],
   "source": [
    "with open('./lstm/ohe_encoder.pkl', 'rb') as f:\n",
    "    encoder = pickle.load(f)\n",
    "\n",
    "dataset = SiburDataset(\n",
    "    data=data,\n",
    "    encoder=encoder,\n",
    "    period={\n",
    "        'start': '2018-01-01',\n",
    "        'end': '2019-03-01'\n",
    "    })"
   ]
  },
  {
   "cell_type": "code",
   "execution_count": 23,
   "id": "f783ce48",
   "metadata": {},
   "outputs": [],
   "source": [
    "with open('ohe_encoder.pkl', 'wb') as f:\n",
    "    pickle.dump(encoder, f)"
   ]
  },
  {
   "cell_type": "markdown",
   "id": "3b2be508",
   "metadata": {},
   "source": [
    "# inference"
   ]
  },
  {
   "cell_type": "code",
   "execution_count": 8,
   "id": "f7406758",
   "metadata": {},
   "outputs": [],
   "source": [
    "from lstm.model import SiburModel\n",
    "from lstm.dataset import get_loader\n",
    "from pathlib import Path\n",
    "from sklearn.metrics import mean_squared_log_error\n",
    "import torch"
   ]
  },
  {
   "cell_type": "code",
   "execution_count": 9,
   "id": "00b4ba76",
   "metadata": {},
   "outputs": [],
   "source": [
    "def load_model(model_weights):\n",
    "    model = SiburModel(hidden_dim=2048, num_layers=2)\n",
    "    model_path = Path(model_weights)\n",
    "    if model_path.exists():\n",
    "        model.load_model(model_path)\n",
    "        print('Модель загружена с', model_path)\n",
    "    return model\n",
    "\n",
    "def predict_month(df, num_workers=2):\n",
    "    model = load_model('lstm/experiment/last.pth')\n",
    "    model = torch.quantization.quantize_dynamic(\n",
    "        model,\n",
    "        {torch.nn.Linear, torch.nn.ReLU},  # a set of layers to dynamically quantize\n",
    "        dtype=torch.qint8\n",
    "        )\n",
    "    \n",
    "    dataloader = get_loader(\n",
    "        df,\n",
    "        shuffle=False,\n",
    "        period=None,\n",
    "        num_workers=num_workers\n",
    "        )\n",
    "    preds = model.predict(dataloader)\n",
    "    \n",
    "    agg_cols = [\"material_code\", \"company_code\", \"country\", \"region\",\n",
    "                \"manager_code\", \"material_lvl1_name\", \"material_lvl2_name\",\n",
    "                \"material_lvl3_name\", \"contract_type\"]\n",
    "    test = df.groupby(agg_cols + [\"month\"])[\"volume\"].sum().unstack(fill_value=0)\n",
    "    test['prediction'] = preds\n",
    "    \n",
    "    preds_df = test['prediction'] \\\n",
    "        .reset_index() \\\n",
    "        .pivot_table(\n",
    "            index=['material_code', 'company_code', 'country', 'region', 'manager_code'],\n",
    "            aggfunc='sum'\n",
    "            ) \\\n",
    "        .reset_index()\n",
    "    preds_df\n",
    "    return preds_df"
   ]
  },
  {
   "cell_type": "code",
   "execution_count": 10,
   "id": "737cbb5f",
   "metadata": {},
   "outputs": [],
   "source": [
    "def get_gt_df(df, month):\n",
    "    agg_cols = [\"material_code\", \"company_code\", \"country\", \"region\",\n",
    "                \"manager_code\", \"material_lvl1_name\", \"material_lvl2_name\",\n",
    "                \"material_lvl3_name\", \"contract_type\"]\n",
    "    gt = df.groupby(agg_cols + [\"month\"])[\"volume\"].sum().unstack(fill_value=0).loc[:, '2020-07-01']\n",
    "    gt_df = gt.reset_index() \\\n",
    "        .pivot_table(\n",
    "            index=['material_code', 'company_code', 'country', 'region', 'manager_code'],\n",
    "            aggfunc='sum'\n",
    "            ) \\\n",
    "        .reset_index()\n",
    "    return gt_df\n",
    "\n",
    "def measure(preds_df, gt_df):\n",
    "    cols = ['material_code', 'company_code', 'country', 'region', 'manager_code']\n",
    "    total = gt_df.merge(\n",
    "        preds_df, \n",
    "        how='left',\n",
    "        left_on=cols,\n",
    "        right_on=cols\n",
    "        ).fillna(0)\n",
    "    score = mean_squared_log_error(total.iloc[:, -2], total.iloc[:, -1])**0.5\n",
    "    return score"
   ]
  },
  {
   "cell_type": "code",
   "execution_count": null,
   "id": "11828369",
   "metadata": {},
   "outputs": [],
   "source": [
    "from lstm.predict import predict"
   ]
  },
  {
   "cell_type": "code",
   "execution_count": 12,
   "id": "12d01eab",
   "metadata": {},
   "outputs": [
    {
     "name": "stderr",
     "output_type": "stream",
     "text": [
      "100%|█████████████████████████████████████████| 943/943 [09:19<00:00,  1.69it/s]\n"
     ]
    }
   ],
   "source": [
    "month = '2020-07-01'\n",
    "df_pred = predict(data[data['date'] < month], None)"
   ]
  },
  {
   "cell_type": "code",
   "execution_count": 13,
   "id": "c63a01ea",
   "metadata": {},
   "outputs": [
    {
     "data": {
      "text/plain": [
       "1.7419878178098591"
      ]
     },
     "execution_count": 13,
     "metadata": {},
     "output_type": "execute_result"
    }
   ],
   "source": [
    "df_gt = get_gt_df(data, month)\n",
    "measure(df_pred, df_gt)"
   ]
  },
  {
   "cell_type": "markdown",
   "id": "7061c2ed",
   "metadata": {},
   "source": [
    "полный датасет 1.7313655040851463"
   ]
  },
  {
   "cell_type": "code",
   "execution_count": 15,
   "id": "3f02012d",
   "metadata": {},
   "outputs": [],
   "source": [
    "from lstm.dataset import get_loader"
   ]
  },
  {
   "cell_type": "code",
   "execution_count": 19,
   "id": "b357f0df",
   "metadata": {},
   "outputs": [],
   "source": [
    "df = pd.read_csv('sc2021_train_deals.csv', parse_dates=[\"month\", \"date\"])\n",
    "train_dataloader = get_loader(\n",
    "    df,\n",
    "    shuffle=True,\n",
    "    period={\n",
    "        'start': '2018-01-01',\n",
    "        'end': '2020-07-01'\n",
    "        },\n",
    "    num_workers=0,\n",
    "    train=True,\n",
    "    encoder_path='ohe_encoder.pkl'\n",
    "    )"
   ]
  },
  {
   "cell_type": "code",
   "execution_count": 20,
   "id": "b9b21d83",
   "metadata": {},
   "outputs": [
    {
     "data": {
      "text/plain": [
       "943"
      ]
     },
     "execution_count": 20,
     "metadata": {},
     "output_type": "execute_result"
    }
   ],
   "source": [
    "len(train_dataloader)"
   ]
  },
  {
   "cell_type": "code",
   "execution_count": null,
   "id": "28b75f10",
   "metadata": {},
   "outputs": [],
   "source": [
    "# months = pd.date_range(start='2019-06-01', end='2020-07-01', freq='MS')  \n",
    "# results = []\n",
    "# for m in months:\n",
    "#     preds_df = predict_month(data[data['month'] < m])\n",
    "#     gt_df = get_gt_df(data, month=m)\n",
    "#     score = measure(preds_df, gt_df)\n",
    "#     results.append(score)\n",
    "#     print(m, f'score: {score}')\n",
    "\n",
    "# mean = sum(results) / len(results)\n",
    "# print(f'Mean score on test_data: {mean}')"
   ]
  },
  {
   "cell_type": "code",
   "execution_count": null,
   "id": "41e25149",
   "metadata": {},
   "outputs": [],
   "source": []
  }
 ],
 "metadata": {
  "kernelspec": {
   "display_name": "Python 3 (ipykernel)",
   "language": "python",
   "name": "python3"
  },
  "language_info": {
   "codemirror_mode": {
    "name": "ipython",
    "version": 3
   },
   "file_extension": ".py",
   "mimetype": "text/x-python",
   "name": "python",
   "nbconvert_exporter": "python",
   "pygments_lexer": "ipython3",
   "version": "3.9.7"
  }
 },
 "nbformat": 4,
 "nbformat_minor": 5
}
